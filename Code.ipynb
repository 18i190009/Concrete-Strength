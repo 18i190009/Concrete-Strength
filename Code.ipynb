{
 "cells": [
  {
   "cell_type": "code",
   "execution_count": 207,
   "metadata": {},
   "outputs": [],
   "source": [
    "#Importing necessary libraries\n",
    "import pandas as pd\n",
    "import numpy as np\n",
    "from sklearn.model_selection import train_test_split\n",
    "from sklearn.model_selection import KFold\n",
    "from sklearn.tree import DecisionTreeClassifier\n",
    "from sklearn.metrics import confusion_matrix\n",
    "from sklearn.ensemble import RandomForestClassifier\n",
    "from sklearn.neighbors import KNeighborsClassifier\n",
    "from sklearn.naive_bayes import GaussianNB\n",
    "from sklearn import ensemble\n",
    "import seaborn as sns\n",
    "from sklearn.utils import shuffle\n",
    "import matplotlib.pyplot as plt\n",
    "from sklearn.model_selection import cross_val_score\n",
    "from statsmodels.stats.outliers_influence import variance_inflation_factor \n",
    "from sklearn.model_selection import RandomizedSearchCV\n",
    "import random\n",
    "from sklearn.model_selection import cross_val_predict\n",
    "from sklearn.metrics import confusion_matrix"
   ]
  },
  {
   "cell_type": "code",
   "execution_count": 208,
   "metadata": {},
   "outputs": [],
   "source": [
    "#Reading working data\n",
    "dataset = pd.read_excel(\"Final_Data.xls\")\n",
    "data = dataset.iloc[:,1:len(dataset)]"
   ]
  },
  {
   "cell_type": "code",
   "execution_count": 209,
   "metadata": {},
   "outputs": [
    {
     "data": {
      "text/html": [
       "<div>\n",
       "<style scoped>\n",
       "    .dataframe tbody tr th:only-of-type {\n",
       "        vertical-align: middle;\n",
       "    }\n",
       "\n",
       "    .dataframe tbody tr th {\n",
       "        vertical-align: top;\n",
       "    }\n",
       "\n",
       "    .dataframe thead th {\n",
       "        text-align: right;\n",
       "    }\n",
       "</style>\n",
       "<table border=\"1\" class=\"dataframe\">\n",
       "  <thead>\n",
       "    <tr style=\"text-align: right;\">\n",
       "      <th></th>\n",
       "      <th>cement</th>\n",
       "      <th>blast</th>\n",
       "      <th>flyash</th>\n",
       "      <th>water</th>\n",
       "      <th>plast</th>\n",
       "      <th>coarse</th>\n",
       "      <th>fine</th>\n",
       "      <th>age</th>\n",
       "      <th>strength</th>\n",
       "    </tr>\n",
       "  </thead>\n",
       "  <tbody>\n",
       "    <tr>\n",
       "      <td>0</td>\n",
       "      <td>331.000000</td>\n",
       "      <td>170.00</td>\n",
       "      <td>0.00</td>\n",
       "      <td>195.00</td>\n",
       "      <td>8.00</td>\n",
       "      <td>811.0</td>\n",
       "      <td>778.45</td>\n",
       "      <td>28</td>\n",
       "      <td>3</td>\n",
       "    </tr>\n",
       "    <tr>\n",
       "      <td>1</td>\n",
       "      <td>393.000000</td>\n",
       "      <td>0.00</td>\n",
       "      <td>0.00</td>\n",
       "      <td>192.00</td>\n",
       "      <td>0.00</td>\n",
       "      <td>940.0</td>\n",
       "      <td>758.00</td>\n",
       "      <td>3</td>\n",
       "      <td>1</td>\n",
       "    </tr>\n",
       "    <tr>\n",
       "      <td>2</td>\n",
       "      <td>212.000000</td>\n",
       "      <td>0.00</td>\n",
       "      <td>124.78</td>\n",
       "      <td>185.70</td>\n",
       "      <td>7.84</td>\n",
       "      <td>1085.4</td>\n",
       "      <td>799.54</td>\n",
       "      <td>14</td>\n",
       "      <td>2</td>\n",
       "    </tr>\n",
       "    <tr>\n",
       "      <td>3</td>\n",
       "      <td>280.729655</td>\n",
       "      <td>144.20</td>\n",
       "      <td>112.30</td>\n",
       "      <td>220.10</td>\n",
       "      <td>10.10</td>\n",
       "      <td>923.2</td>\n",
       "      <td>657.90</td>\n",
       "      <td>28</td>\n",
       "      <td>1</td>\n",
       "    </tr>\n",
       "    <tr>\n",
       "      <td>4</td>\n",
       "      <td>165.000000</td>\n",
       "      <td>0.02</td>\n",
       "      <td>143.57</td>\n",
       "      <td>163.81</td>\n",
       "      <td>0.00</td>\n",
       "      <td>1005.6</td>\n",
       "      <td>900.90</td>\n",
       "      <td>3</td>\n",
       "      <td>1</td>\n",
       "    </tr>\n",
       "  </tbody>\n",
       "</table>\n",
       "</div>"
      ],
      "text/plain": [
       "       cement   blast  flyash   water  plast  coarse    fine  age  strength\n",
       "0  331.000000  170.00    0.00  195.00   8.00   811.0  778.45   28         3\n",
       "1  393.000000    0.00    0.00  192.00   0.00   940.0  758.00    3         1\n",
       "2  212.000000    0.00  124.78  185.70   7.84  1085.4  799.54   14         2\n",
       "3  280.729655  144.20  112.30  220.10  10.10   923.2  657.90   28         1\n",
       "4  165.000000    0.02  143.57  163.81   0.00  1005.6  900.90    3         1"
      ]
     },
     "execution_count": 209,
     "metadata": {},
     "output_type": "execute_result"
    }
   ],
   "source": [
    "#Printing data columns\n",
    "data.head()"
   ]
  },
  {
   "cell_type": "code",
   "execution_count": 210,
   "metadata": {},
   "outputs": [],
   "source": [
    "#Saving our predictor and response variables in different dataframe \n",
    "y = data.strength\n",
    "x = data.drop('strength',axis=1)"
   ]
  },
  {
   "cell_type": "code",
   "execution_count": 211,
   "metadata": {},
   "outputs": [
    {
     "name": "stdout",
     "output_type": "stream",
     "text": [
      "   VIF Factor Features\n",
      "0   14.478621   cement\n",
      "1    2.823529    blast\n",
      "2    3.451721   flyash\n",
      "3   84.423071    water\n",
      "4    4.385283    plast\n",
      "5   90.438337   coarse\n",
      "6   76.642105     fine\n",
      "7    1.662904      age\n"
     ]
    }
   ],
   "source": [
    "#Calculating VIF for detecting collinearity \n",
    "vif = pd.DataFrame()\n",
    "vif[\"VIF Factor\"] = [variance_inflation_factor(x.values,i) for i in range(x.shape[1])]\n",
    "vif[\"Features\"] = x.columns\n",
    "print(vif)"
   ]
  },
  {
   "cell_type": "code",
   "execution_count": 212,
   "metadata": {},
   "outputs": [],
   "source": [
    "#Dropping variables coarse and fine with high VIF\n",
    "x_new = x.drop(['coarse','fine'], axis = 1)"
   ]
  },
  {
   "cell_type": "code",
   "execution_count": 213,
   "metadata": {},
   "outputs": [
    {
     "data": {
      "image/png": "[encoded data removed]",
      "text/plain": [
       "<Figure size 432x288 with 2 Axes>"
      ]
     },
     "metadata": {
      "needs_background": "light"
     },
     "output_type": "display_data"
    }
   ],
   "source": [
    "#Correlation plot to show the inter correlation among the feature variables\n",
    "sns.heatmap(x.corr().abs())\n",
    "plt.show()"
   ]
  },
  {
   "cell_type": "code",
   "execution_count": 214,
   "metadata": {},
   "outputs": [
    {
     "name": "stdout",
     "output_type": "stream",
     "text": [
      "RMSE of KNN Classifier is:  0.6661000828616894\n",
      "Negetive MAE of KNN Classifier is : -0.3718446601941747\n",
      "Accuracy of KNN Classifier is:  72.81553398058253\n"
     ]
    }
   ],
   "source": [
    "#Training a KNN classifier\n",
    "knn = KNeighborsClassifier(n_neighbors = 3)\n",
    "accuracy = cross_val_score(knn, x_new, y, scoring='accuracy', cv=KFold(10, shuffle=True, random_state = 1)) \n",
    "rmse = np.sqrt(-np.mean(cross_val_score(knn, x_new, y, scoring='neg_mean_squared_error', cv=KFold(10, shuffle=True,random_state = 1))))\n",
    "mae = np.mean(cross_val_score(knn, x_new, y, scoring='neg_mean_absolute_error', cv=KFold(10, shuffle=True,random_state = 1)))\n",
    "print(\"RMSE of KNN Classifier is: \" , rmse)\n",
    "print(\"Negetive MAE of KNN Classifier is :\", mae)\n",
    "print(\"Accuracy of KNN Classifier is: \" , accuracy.max()* 100)\n",
    "\n",
    "#y_pred = cross_val_predict(knn, x_new, y, cv=KFold(10, shuffle=True, random_state = 1))\n",
    "#conf_mat = confusion_matrix(y, y_pred)\n",
    "#print('Confusion Matrix :\\n')\n",
    "#print(conf_mat)"
   ]
  },
  {
   "cell_type": "code",
   "execution_count": 215,
   "metadata": {},
   "outputs": [
    {
     "name": "stdout",
     "output_type": "stream",
     "text": [
      "RMSE of Naive Bayes Classifier is:  0.8004852897018946\n",
      "Negetive MAE of Naive Bayes Classifier is : -0.5339805825242718\n",
      "Accuracy of Naive Bayes Classifier is:  59.22330097087378\n"
     ]
    }
   ],
   "source": [
    "#Training a Naive Bayes classifier \n",
    "gnb = GaussianNB()\n",
    "accuracy = cross_val_score(gnb, x_new, y, scoring='accuracy', cv=KFold(10, shuffle=True, random_state = 1)) \n",
    "rmse = np.sqrt(-np.mean(cross_val_score(gnb, x_new, y, scoring='neg_mean_squared_error', cv=KFold(10, shuffle=True,random_state = 1))))\n",
    "mae = np.mean(cross_val_score(gnb, x_new, y, scoring='neg_mean_absolute_error', cv=KFold(10, shuffle=True,random_state = 1)))\n",
    "print(\"RMSE of Naive Bayes Classifier is: \" , rmse)\n",
    "print(\"Negetive MAE of Naive Bayes Classifier is :\", mae)\n",
    "print(\"Accuracy of Naive Bayes Classifier is: \" , accuracy.max()* 100)\n",
    "\n",
    "#y_pred = cross_val_predict(gnb, x_new, y, cv=KFold(10, shuffle=True, random_state = 1))\n",
    "#conf_mat = confusion_matrix(y, y_pred)\n",
    "#print('Confusion Matrix :\\n')\n",
    "#print(conf_mat)"
   ]
  },
  {
   "cell_type": "code",
   "execution_count": 216,
   "metadata": {},
   "outputs": [
    {
     "name": "stdout",
     "output_type": "stream",
     "text": [
      "RMSE of Decision TRee Classifier is:  0.5651703068351657\n",
      "Negetive MAE of Decision TRee Classifier is : -0.2786407766990291\n",
      "Accuracy of Decision TRee Classifier is:  79.6116504854369\n"
     ]
    }
   ],
   "source": [
    "#Training a DecisionTreeClassifier\n",
    "dtree_model = DecisionTreeClassifier(max_depth = 10,random_state = 1)\n",
    "accuracy = cross_val_score(dtree_model, x_new, y, scoring='accuracy', cv=KFold(10, shuffle=True, random_state = 1)) \n",
    "rmse = np.sqrt(-np.mean(cross_val_score(dtree_model, x_new, y, scoring='neg_mean_squared_error', cv=KFold(10, shuffle=True,random_state = 1))))\n",
    "mae = np.mean(cross_val_score(dtree_model, x_new, y, scoring='neg_mean_absolute_error', cv=KFold(10, shuffle=True,random_state = 1)))\n",
    "print(\"RMSE of Decision TRee Classifier is: \" , rmse)\n",
    "print(\"Negetive MAE of Decision TRee Classifier is :\", mae)\n",
    "print(\"Accuracy of Decision TRee Classifier is: \" , accuracy.max()* 100)\n",
    "\n",
    "#y_pred = cross_val_predict(dtree_model, x_new, y, cv=KFold(10, shuffle=True, random_state = 1))\n",
    "#conf_mat = confusion_matrix(y, y_pred)\n",
    "#print('Confusion Matrix :\\n')\n",
    "#print(conf_mat)"
   ]
  },
  {
   "cell_type": "code",
   "execution_count": null,
   "metadata": {},
   "outputs": [],
   "source": []
  }
 ],
 "metadata": {
  "kernelspec": {
   "display_name": "Python 3",
   "language": "python",
   "name": "python3"
  },
  "language_info": {
   "codemirror_mode": {
    "name": "ipython",
    "version": 3
   },
   "file_extension": ".py",
   "mimetype": "text/x-python",
   "name": "python",
   "nbconvert_exporter": "python",
   "pygments_lexer": "ipython3",
   "version": "3.7.4"
  }
 },
 "nbformat": 4,
 "nbformat_minor": 2
}
