{
 "cells": [
  {
   "cell_type": "code",
   "execution_count": 1,
   "metadata": {},
   "outputs": [],
   "source": [
    "#Importing necessary libraries\n",
    "import pandas as pd\n",
    "import random"
   ]
  },
  {
   "cell_type": "code",
   "execution_count": 2,
   "metadata": {},
   "outputs": [],
   "source": [
    "#Reading data from excel file\n",
    "data = pd.read_excel(\"Real_Concrete_Data.xls\")"
   ]
  },
  {
   "cell_type": "code",
   "execution_count": 3,
   "metadata": {},
   "outputs": [],
   "source": [
    "#Renaming the name of features\n",
    "cement = data['Cement (component 1)(kg in a m^3 mixture)']\n",
    "blast = data['Blast Furnace Slag (component 2)(kg in a m^3 mixture)']\n",
    "flyash = data['Fly Ash (component 3)(kg in a m^3 mixture)']\n",
    "water = data['Water  (component 4)(kg in a m^3 mixture)']\n",
    "plast = data['Superplasticizer (component 5)(kg in a m^3 mixture)']\n",
    "coarse = data['Coarse Aggregate  (component 6)(kg in a m^3 mixture)']\n",
    "fine = data['Fine Aggregate (component 7)(kg in a m^3 mixture)']\n",
    "age = data['Age (day)']\n",
    "strength = data['Concrete compressive strength(MPa, megapascals) ']"
   ]
  },
  {
   "cell_type": "code",
   "execution_count": 4,
   "metadata": {
    "scrolled": true
   },
   "outputs": [],
   "source": [
    "# Classifying the strength into 4 classes\n",
    "strength_class = []\n",
    "for i in range(len(strength)):\n",
    "    if 0 < strength[i] <= 21:\n",
    "        strength_class.append(1)\n",
    "    elif 21 < strength[i] <= 43:\n",
    "        strength_class.append(2)\n",
    "    elif 43 < strength[i] <= 64:\n",
    "        strength_class.append(3)\n",
    "    else:\n",
    "        strength_class.append(4)\n",
    "        \n",
    "strength_class_new = pd.DataFrame(strength_class,columns = ['Strength_Class'])\n",
    "strength_class_df = strength_class_new['Strength_Class']"
   ]
  },
  {
   "cell_type": "code",
   "execution_count": 5,
   "metadata": {},
   "outputs": [],
   "source": [
    "r = []\n",
    "for i in range(8):\n",
    "    r.append(random.sample(range(len(cement)), int(0.1*len(cement))))"
   ]
  },
  {
   "cell_type": "code",
   "execution_count": 6,
   "metadata": {},
   "outputs": [
    {
     "name": "stderr",
     "output_type": "stream",
     "text": [
      "C:\\Users\\harshit\\Anaconda4\\lib\\site-packages\\ipykernel_launcher.py:2: SettingWithCopyWarning: \n",
      "A value is trying to be set on a copy of a slice from a DataFrame\n",
      "\n",
      "See the caveats in the documentation: http://pandas.pydata.org/pandas-docs/stable/user_guide/indexing.html#returning-a-view-versus-a-copy\n",
      "  \n",
      "C:\\Users\\harshit\\Anaconda4\\lib\\site-packages\\pandas\\core\\indexing.py:205: SettingWithCopyWarning: \n",
      "A value is trying to be set on a copy of a slice from a DataFrame\n",
      "\n",
      "See the caveats in the documentation: http://pandas.pydata.org/pandas-docs/stable/user_guide/indexing.html#returning-a-view-versus-a-copy\n",
      "  self._setitem_with_indexer(indexer, value)\n",
      "C:\\Users\\harshit\\Anaconda4\\lib\\site-packages\\ipykernel_launcher.py:5: SettingWithCopyWarning: \n",
      "A value is trying to be set on a copy of a slice from a DataFrame\n",
      "\n",
      "See the caveats in the documentation: http://pandas.pydata.org/pandas-docs/stable/user_guide/indexing.html#returning-a-view-versus-a-copy\n",
      "  \"\"\"\n",
      "C:\\Users\\harshit\\Anaconda4\\lib\\site-packages\\ipykernel_launcher.py:8: SettingWithCopyWarning: \n",
      "A value is trying to be set on a copy of a slice from a DataFrame\n",
      "\n",
      "See the caveats in the documentation: http://pandas.pydata.org/pandas-docs/stable/user_guide/indexing.html#returning-a-view-versus-a-copy\n",
      "  \n",
      "C:\\Users\\harshit\\Anaconda4\\lib\\site-packages\\ipykernel_launcher.py:11: SettingWithCopyWarning: \n",
      "A value is trying to be set on a copy of a slice from a DataFrame\n",
      "\n",
      "See the caveats in the documentation: http://pandas.pydata.org/pandas-docs/stable/user_guide/indexing.html#returning-a-view-versus-a-copy\n",
      "  # This is added back by InteractiveShellApp.init_path()\n",
      "C:\\Users\\harshit\\Anaconda4\\lib\\site-packages\\ipykernel_launcher.py:14: SettingWithCopyWarning: \n",
      "A value is trying to be set on a copy of a slice from a DataFrame\n",
      "\n",
      "See the caveats in the documentation: http://pandas.pydata.org/pandas-docs/stable/user_guide/indexing.html#returning-a-view-versus-a-copy\n",
      "  \n",
      "C:\\Users\\harshit\\Anaconda4\\lib\\site-packages\\ipykernel_launcher.py:17: SettingWithCopyWarning: \n",
      "A value is trying to be set on a copy of a slice from a DataFrame\n",
      "\n",
      "See the caveats in the documentation: http://pandas.pydata.org/pandas-docs/stable/user_guide/indexing.html#returning-a-view-versus-a-copy\n",
      "C:\\Users\\harshit\\Anaconda4\\lib\\site-packages\\ipykernel_launcher.py:20: SettingWithCopyWarning: \n",
      "A value is trying to be set on a copy of a slice from a DataFrame\n",
      "\n",
      "See the caveats in the documentation: http://pandas.pydata.org/pandas-docs/stable/user_guide/indexing.html#returning-a-view-versus-a-copy\n",
      "C:\\Users\\harshit\\Anaconda4\\lib\\site-packages\\ipykernel_launcher.py:23: SettingWithCopyWarning: \n",
      "A value is trying to be set on a copy of a slice from a DataFrame\n",
      "\n",
      "See the caveats in the documentation: http://pandas.pydata.org/pandas-docs/stable/user_guide/indexing.html#returning-a-view-versus-a-copy\n"
     ]
    }
   ],
   "source": [
    "for i in range(len(r[0])):\n",
    "    cement[r[0][i]] = 'NA'\n",
    "\n",
    "for i in range(len(r[1])):\n",
    "    blast[r[1][i]] = 'NA'\n",
    "    \n",
    "for i in range(len(r[2])):\n",
    "    flyash[r[2][i]] = 'NA'\n",
    "\n",
    "for i in range(len(r[3])):\n",
    "    water[r[3][i]] = 'NA'\n",
    "\n",
    "for i in range(len(r[4])):\n",
    "    plast[r[4][i]] = 'NA'\n",
    "\n",
    "for i in range(len(r[5])):\n",
    "    coarse[r[5][i]] = 'NA'\n",
    "    \n",
    "for i in range(len(r[6])):\n",
    "    fine[r[6][i]] = 'NA'\n",
    "    \n",
    "for i in range(len(r[7])):\n",
    "    age[r[7][i]] = 'NA'"
   ]
  },
  {
   "cell_type": "code",
   "execution_count": 7,
   "metadata": {
    "scrolled": false
   },
   "outputs": [],
   "source": [
    "new_Concrete_Data = pd.concat([cement,blast,flyash,water,plast,coarse,fine,age,strength_class_df],axis=1)\n",
    "new_Concrete = pd.DataFrame(new_Concrete_Data)"
   ]
  },
  {
   "cell_type": "code",
   "execution_count": 8,
   "metadata": {},
   "outputs": [],
   "source": [
    "#Storing original data with categorised strength into new dataframe \n",
    "new_Concrete_Data.to_excel('New_Data.xls')"
   ]
  }
 ],
 "metadata": {
  "kernelspec": {
   "display_name": "Python 3",
   "language": "python",
   "name": "python3"
  },
  "language_info": {
   "codemirror_mode": {
    "name": "ipython",
    "version": 3
   },
   "file_extension": ".py",
   "mimetype": "text/x-python",
   "name": "python",
   "nbconvert_exporter": "python",
   "pygments_lexer": "ipython3",
   "version": "3.7.4"
  }
 },
 "nbformat": 4,
 "nbformat_minor": 2
}
